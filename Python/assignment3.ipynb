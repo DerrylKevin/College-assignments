{
 "cells": [
  {
   "cell_type": "code",
   "execution_count": 5,
   "metadata": {},
   "outputs": [],
   "source": [
    "class student:\n",
    "    \n",
    "    def __init__(self, name, usn, m1, m2, m3):\n",
    "        self.name = name\n",
    "        self.usn = usn\n",
    "        self.m1 = m1\n",
    "        self.m2 = m2\n",
    "        self.m3 = m3\n",
    "        \n",
    "    def __str__(self):\n",
    "        return f\"Name: {self.name} \\nUSN: {self.usn} \\nSubject 1 marks: {self.m1} \\nSubject 2 marks: {self.m2} \\nSubject 3 marks: {self.m3} \\n\"\n",
    "    \n",
    "    def increment_marks(self, bonus=10):\n",
    "        self.m1 += bonus/100 * self.m1\n",
    "        self.m2 += bonus/100 * self.m2\n",
    "        self.m3 += bonus/100 * self.m3\n",
    "        if self.m1 > 100:\n",
    "            self.m1 = 100\n",
    "        if self.m2 > 100:\n",
    "            self.m2 = 100\n",
    "        if self.m3 > 100:\n",
    "            self.m3 = 100\n",
    "        \n",
    "    def percentage(self):\n",
    "        avg = (self.m1 + self.m2 + self.m3) / 3\n",
    "        print(f\"Percentage: {round(avg, 2)}\")"
   ]
  },
  {
   "cell_type": "code",
   "execution_count": 6,
   "metadata": {},
   "outputs": [
    {
     "name": "stdout",
     "output_type": "stream",
     "text": [
      "Name: Kevin \n",
      "USN: 4VV18CS034 \n",
      "Subject 1 marks: 77 \n",
      "Subject 2 marks: 82 \n",
      "Subject 3 marks: 94 \n",
      "\n"
     ]
    }
   ],
   "source": [
    "kev = student(\"Kevin\", \"4VV18CS034\", 77, 82, 94)\n",
    "print(kev)"
   ]
  },
  {
   "cell_type": "code",
   "execution_count": 7,
   "metadata": {},
   "outputs": [
    {
     "name": "stdout",
     "output_type": "stream",
     "text": [
      "Percentage: 84.33\n"
     ]
    }
   ],
   "source": [
    "kev.percentage()"
   ]
  },
  {
   "cell_type": "code",
   "execution_count": 8,
   "metadata": {},
   "outputs": [
    {
     "name": "stdout",
     "output_type": "stream",
     "text": [
      "Name: Kevin \n",
      "USN: 4VV18CS034 \n",
      "Subject 1 marks: 80.85 \n",
      "Subject 2 marks: 86.1 \n",
      "Subject 3 marks: 98.7 \n",
      "\n"
     ]
    }
   ],
   "source": [
    "# Increment marks by 5%. By default the increment percentage is 10%\n",
    "kev.increment_marks(5)\n",
    "print(kev)"
   ]
  },
  {
   "cell_type": "code",
   "execution_count": 9,
   "metadata": {},
   "outputs": [
    {
     "name": "stdout",
     "output_type": "stream",
     "text": [
      "Name: Kevin \n",
      "USN: 4VV18CS034 \n",
      "Subject 1 marks: 88.93499999999999 \n",
      "Subject 2 marks: 94.71 \n",
      "Subject 3 marks: 100 \n",
      "\n"
     ]
    }
   ],
   "source": [
    "kev.increment_marks()\n",
    "print(kev)"
   ]
  },
  {
   "cell_type": "code",
   "execution_count": 10,
   "metadata": {},
   "outputs": [
    {
     "name": "stdout",
     "output_type": "stream",
     "text": [
      "Name: Kevin \n",
      "USN: 4VV18CS034 \n",
      "Subject 1 marks: 97.82849999999999 \n",
      "Subject 2 marks: 100 \n",
      "Subject 3 marks: 100 \n",
      "\n"
     ]
    }
   ],
   "source": [
    "kev.increment_marks()\n",
    "print(kev)"
   ]
  },
  {
   "cell_type": "code",
   "execution_count": 11,
   "metadata": {},
   "outputs": [
    {
     "name": "stdout",
     "output_type": "stream",
     "text": [
      "Percentage: 99.28\n"
     ]
    }
   ],
   "source": [
    "kev.percentage()"
   ]
  }
 ],
 "metadata": {
  "kernelspec": {
   "display_name": "Python 3",
   "language": "python",
   "name": "python3"
  },
  "language_info": {
   "codemirror_mode": {
    "name": "ipython",
    "version": 3
   },
   "file_extension": ".py",
   "mimetype": "text/x-python",
   "name": "python",
   "nbconvert_exporter": "python",
   "pygments_lexer": "ipython3",
   "version": "3.8.5"
  }
 },
 "nbformat": 4,
 "nbformat_minor": 4
}
